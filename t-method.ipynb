{
 "cells": [
  {
   "cell_type": "markdown",
   "metadata": {},
   "source": [
    "# T-method Duct Design\n",
    "---\n",
    "\n",
    "- T-method optimization algorithm for duct design, using R.J. Tsal paper as reference"
   ]
  },
  {
   "cell_type": "code",
   "execution_count": 1,
   "metadata": {
    "collapsed": false
   },
   "outputs": [],
   "source": [
    "import numpy as np\n",
    "import pandas as pd\n",
    "\n",
    "\n",
    "from IPython.display import display, clear_output\n",
    "from ipywidgets import widgets\n",
    "\n",
    "# custom modules \n",
    "from duct import DuctSection, DuctSystem\n",
    "import data_widget"
   ]
  },
  {
   "cell_type": "code",
   "execution_count": 2,
   "metadata": {
    "collapsed": false
   },
   "outputs": [],
   "source": [
    "%load_ext autoreload\n",
    "%autoreload 2"
   ]
  },
  {
   "cell_type": "code",
   "execution_count": null,
   "metadata": {
    "collapsed": false
   },
   "outputs": [],
   "source": []
  },
  {
   "cell_type": "code",
   "execution_count": null,
   "metadata": {
    "collapsed": true
   },
   "outputs": [],
   "source": []
  },
  {
   "cell_type": "code",
   "execution_count": null,
   "metadata": {
    "collapsed": true
   },
   "outputs": [],
   "source": []
  },
  {
   "cell_type": "markdown",
   "metadata": {},
   "source": [
    "---\n",
    "### Input Data\n",
    "\n",
    "- See [Nomenclature](#nomenclature_cell) for variable definitions"
   ]
  },
  {
   "cell_type": "markdown",
   "metadata": {},
   "source": [
    "---\n",
    "** General Data: **"
   ]
  },
  {
   "cell_type": "code",
   "execution_count": null,
   "metadata": {
    "collapsed": true
   },
   "outputs": [],
   "source": []
  },
  {
   "cell_type": "code",
   "execution_count": 3,
   "metadata": {
    "collapsed": true
   },
   "outputs": [],
   "source": [
    "# air temperature (deg C)\n",
    "temp = 22\n",
    "# absolute roughness  (m)\n",
    "e = 0.0003\n",
    "# kinematic viscosity (m^2/s)\n",
    "kVisc = 1.54*10**(-5)\n",
    "# air density        (kg/m^3)\n",
    "density = 1.2\n",
    "# fan efficiency\n",
    "efficiency_fan_peak = 0.85\n",
    "efficiency_fan_op = 0.75\n",
    "# motor efficiency\n",
    "efficiency_motor = 0.8\n",
    "# total system airflow  (m^3/s)\n",
    "Qfan = 1.42"
   ]
  },
  {
   "cell_type": "markdown",
   "metadata": {
    "collapsed": true
   },
   "source": [
    "** Economic Data: **"
   ]
  },
  {
   "cell_type": "code",
   "execution_count": 4,
   "metadata": {
    "collapsed": true
   },
   "outputs": [],
   "source": [
    "energy_cost = 2.03      # (c/kWh)\n",
    "duct_cost = 43.27       # ($/m^2)\n",
    "sys_oper_time = 4400    # (h/yr)"
   ]
  },
  {
   "cell_type": "code",
   "execution_count": null,
   "metadata": {
    "collapsed": false
   },
   "outputs": [],
   "source": []
  },
  {
   "cell_type": "code",
   "execution_count": null,
   "metadata": {
    "collapsed": true
   },
   "outputs": [],
   "source": []
  },
  {
   "cell_type": "code",
   "execution_count": 5,
   "metadata": {
    "collapsed": true
   },
   "outputs": [],
   "source": [
    "data_widget.display_form()"
   ]
  },
  {
   "cell_type": "code",
   "execution_count": null,
   "metadata": {
    "collapsed": false
   },
   "outputs": [],
   "source": []
  },
  {
   "cell_type": "code",
   "execution_count": null,
   "metadata": {
    "collapsed": false
   },
   "outputs": [],
   "source": []
  },
  {
   "cell_type": "code",
   "execution_count": 27,
   "metadata": {
    "collapsed": true
   },
   "outputs": [],
   "source": [
    "def matrix_to_system(matrix):\n",
    "    \"\"\"\n",
    "    Converts data matrix to DuctSystem instance\n",
    "    \"\"\"\n",
    "    System = DuctSystem()\n",
    "    for s in matrix:\n",
    "        section = DuctSection( _id=int(s[0]), ch1=int(s[1]), ch2=int(s[2]), is_rect=s[3], is_presized=s[4], \\\n",
    "                          air_flow=s[5], duct_length=s[6], delta_p_z=s[7], rough_factor=s[8], \\\n",
    "                          req_height=s[9], req_width=s[10], req_dia=s[11], loss_coeff=s[12], \\\n",
    "                          f_factor=0.019)\n",
    "        System.add_section( int(s[0]), section)\n",
    "    System.parents = System.find_parents()\n",
    "\n",
    "    return System\n",
    "\n",
    "def display_data(system):\n",
    "\n",
    "    system.data_to_csv('test')\n",
    "    test_df = pd.read_csv('test.csv')\n",
    "\n",
    "    input_data = test_df[[\"_id\", \"ch1\", \"ch2\", \"is_rect\", \"is_presized\", \"air_flow\", \n",
    "                          \"duct_length\", \"delta_p_z\", \"rough_factor\", \"req_height\",\n",
    "                          \"req_width\", \"req_dia\", \"loss_coeff\"]]\n",
    "\n",
    "    vel_size_fric_data = test_df[[\"_id\", \"velocity\", \"height\", \"width\", \"dia_by_frict\", \n",
    "                                  \"dia_by_vel\", \"f_factor\", \"total_delta_P\" ]]\n",
    "\n",
    "    condense_data = test_df[[\"_id\",\"mu\", \"Ks\", \"Kt\", \"T\",\"max_delta_P\"]]\n",
    "\n",
    "    expand_data = test_df[[\"_id\",\"up_press\", \"req_delta_P\", \"req_delta_P_total\", \"down_press\", \"est_dia\"]]\n",
    "\n",
    "    press_loss_data = test_df[[\"_id\", \"total_path_delta_P\", \"exces_path_delta_P\"]]\n",
    "\n",
    "    print(\"Input Data:\")\n",
    "    display(input_data)\n",
    "    print(\"Velocity-Size-Friction Data:\")\n",
    "    display(vel_size_fric_data)\n",
    "    print(\"Condensing Data:\")\n",
    "    display(condense_data)\n",
    "    print(\"Expansion Data:\")\n",
    "    display(expand_data)\n",
    "    print(\"Pressure Loss Data:\")\n",
    "    display(press_loss_data)"
   ]
  },
  {
   "cell_type": "markdown",
   "metadata": {},
   "source": [
    "** Input Test Data from csv: **"
   ]
  },
  {
   "cell_type": "code",
   "execution_count": 47,
   "metadata": {
    "collapsed": false,
    "scrolled": true
   },
   "outputs": [],
   "source": [
    "test_data = pd.read_csv('test_data.csv')\n",
    "test_data = np.round(test_data.drop(test_data.columns[[0]], axis=1), 3)\n",
    "test_data[[\"$S$\", \"$S_1$\", \"$S_2$\"]] = test_data[[\"$S$\", \"$S_1$\", \"$S_2$\"]].astype('int')"
   ]
  },
  {
   "cell_type": "code",
   "execution_count": 48,
   "metadata": {
    "collapsed": false
   },
   "outputs": [],
   "source": [
    "test_system = matrix_to_system(test_data.as_matrix())"
   ]
  },
  {
   "cell_type": "code",
   "execution_count": null,
   "metadata": {
    "collapsed": false,
    "scrolled": false
   },
   "outputs": [],
   "source": []
  },
  {
   "cell_type": "markdown",
   "metadata": {},
   "source": [
    "## Data Initiation"
   ]
  },
  {
   "cell_type": "code",
   "execution_count": 49,
   "metadata": {
    "collapsed": false
   },
   "outputs": [],
   "source": [
    "test_system.data_init()\n"
   ]
  },
  {
   "cell_type": "code",
   "execution_count": 50,
   "metadata": {
    "collapsed": false
   },
   "outputs": [
    {
     "name": "stdout",
     "output_type": "stream",
     "text": [
      "Input Data:\n"
     ]
    },
    {
     "data": {
      "text/html": [
       "<div>\n",
       "<table border=\"1\" class=\"dataframe\">\n",
       "  <thead>\n",
       "    <tr style=\"text-align: right;\">\n",
       "      <th></th>\n",
       "      <th>_id</th>\n",
       "      <th>ch1</th>\n",
       "      <th>ch2</th>\n",
       "      <th>is_rect</th>\n",
       "      <th>is_presized</th>\n",
       "      <th>air_flow</th>\n",
       "      <th>duct_length</th>\n",
       "      <th>delta_p_z</th>\n",
       "      <th>rough_factor</th>\n",
       "      <th>req_height</th>\n",
       "      <th>req_width</th>\n",
       "      <th>req_dia</th>\n",
       "      <th>loss_coeff</th>\n",
       "    </tr>\n",
       "  </thead>\n",
       "  <tbody>\n",
       "    <tr>\n",
       "      <th>0</th>\n",
       "      <td>1</td>\n",
       "      <td>0</td>\n",
       "      <td>0</td>\n",
       "      <td>True</td>\n",
       "      <td>False</td>\n",
       "      <td>0.70</td>\n",
       "      <td>14.00</td>\n",
       "      <td>25.0</td>\n",
       "      <td>0.0</td>\n",
       "      <td>0.254</td>\n",
       "      <td>0.0</td>\n",
       "      <td>0.00</td>\n",
       "      <td>0.80</td>\n",
       "    </tr>\n",
       "    <tr>\n",
       "      <th>1</th>\n",
       "      <td>2</td>\n",
       "      <td>0</td>\n",
       "      <td>0</td>\n",
       "      <td>False</td>\n",
       "      <td>False</td>\n",
       "      <td>0.22</td>\n",
       "      <td>12.00</td>\n",
       "      <td>37.5</td>\n",
       "      <td>0.0</td>\n",
       "      <td>0.000</td>\n",
       "      <td>0.0</td>\n",
       "      <td>0.00</td>\n",
       "      <td>0.65</td>\n",
       "    </tr>\n",
       "    <tr>\n",
       "      <th>2</th>\n",
       "      <td>3</td>\n",
       "      <td>1</td>\n",
       "      <td>2</td>\n",
       "      <td>False</td>\n",
       "      <td>True</td>\n",
       "      <td>0.92</td>\n",
       "      <td>8.00</td>\n",
       "      <td>0.0</td>\n",
       "      <td>0.0</td>\n",
       "      <td>0.000</td>\n",
       "      <td>0.0</td>\n",
       "      <td>0.33</td>\n",
       "      <td>0.18</td>\n",
       "    </tr>\n",
       "    <tr>\n",
       "      <th>3</th>\n",
       "      <td>4</td>\n",
       "      <td>0</td>\n",
       "      <td>0</td>\n",
       "      <td>False</td>\n",
       "      <td>False</td>\n",
       "      <td>0.50</td>\n",
       "      <td>16.00</td>\n",
       "      <td>0.0</td>\n",
       "      <td>0.0</td>\n",
       "      <td>0.000</td>\n",
       "      <td>0.0</td>\n",
       "      <td>0.00</td>\n",
       "      <td>0.65</td>\n",
       "    </tr>\n",
       "    <tr>\n",
       "      <th>4</th>\n",
       "      <td>5</td>\n",
       "      <td>3</td>\n",
       "      <td>4</td>\n",
       "      <td>False</td>\n",
       "      <td>False</td>\n",
       "      <td>1.42</td>\n",
       "      <td>19.81</td>\n",
       "      <td>37.5</td>\n",
       "      <td>0.0</td>\n",
       "      <td>0.000</td>\n",
       "      <td>0.0</td>\n",
       "      <td>0.00</td>\n",
       "      <td>1.50</td>\n",
       "    </tr>\n",
       "  </tbody>\n",
       "</table>\n",
       "</div>"
      ],
      "text/plain": [
       "   _id  ch1  ch2 is_rect is_presized  air_flow  duct_length  delta_p_z  \\\n",
       "0    1    0    0    True       False      0.70        14.00       25.0   \n",
       "1    2    0    0   False       False      0.22        12.00       37.5   \n",
       "2    3    1    2   False        True      0.92         8.00        0.0   \n",
       "3    4    0    0   False       False      0.50        16.00        0.0   \n",
       "4    5    3    4   False       False      1.42        19.81       37.5   \n",
       "\n",
       "   rough_factor  req_height  req_width  req_dia  loss_coeff  \n",
       "0           0.0       0.254        0.0     0.00        0.80  \n",
       "1           0.0       0.000        0.0     0.00        0.65  \n",
       "2           0.0       0.000        0.0     0.33        0.18  \n",
       "3           0.0       0.000        0.0     0.00        0.65  \n",
       "4           0.0       0.000        0.0     0.00        1.50  "
      ]
     },
     "metadata": {},
     "output_type": "display_data"
    },
    {
     "name": "stdout",
     "output_type": "stream",
     "text": [
      "Velocity-Size-Friction Data:\n"
     ]
    },
    {
     "data": {
      "text/html": [
       "<div>\n",
       "<table border=\"1\" class=\"dataframe\">\n",
       "  <thead>\n",
       "    <tr style=\"text-align: right;\">\n",
       "      <th></th>\n",
       "      <th>_id</th>\n",
       "      <th>velocity</th>\n",
       "      <th>height</th>\n",
       "      <th>width</th>\n",
       "      <th>dia_by_frict</th>\n",
       "      <th>dia_by_vel</th>\n",
       "      <th>f_factor</th>\n",
       "      <th>total_delta_P</th>\n",
       "    </tr>\n",
       "  </thead>\n",
       "  <tbody>\n",
       "    <tr>\n",
       "      <th>0</th>\n",
       "      <td>1</td>\n",
       "      <td>6.500000</td>\n",
       "      <td>0.254</td>\n",
       "      <td>0.423985</td>\n",
       "      <td>0.317683</td>\n",
       "      <td>0.370170</td>\n",
       "      <td>0.019</td>\n",
       "      <td>66.505860</td>\n",
       "    </tr>\n",
       "    <tr>\n",
       "      <th>1</th>\n",
       "      <td>2</td>\n",
       "      <td>6.500000</td>\n",
       "      <td>0.000</td>\n",
       "      <td>0.000000</td>\n",
       "      <td>0.207522</td>\n",
       "      <td>0.207522</td>\n",
       "      <td>0.019</td>\n",
       "      <td>81.829029</td>\n",
       "    </tr>\n",
       "    <tr>\n",
       "      <th>2</th>\n",
       "      <td>3</td>\n",
       "      <td>10.762902</td>\n",
       "      <td>0.000</td>\n",
       "      <td>0.000000</td>\n",
       "      <td>0.330000</td>\n",
       "      <td>0.330000</td>\n",
       "      <td>0.019</td>\n",
       "      <td>44.524704</td>\n",
       "    </tr>\n",
       "    <tr>\n",
       "      <th>3</th>\n",
       "      <td>4</td>\n",
       "      <td>6.500000</td>\n",
       "      <td>0.000</td>\n",
       "      <td>0.000000</td>\n",
       "      <td>0.312851</td>\n",
       "      <td>0.312851</td>\n",
       "      <td>0.019</td>\n",
       "      <td>41.110319</td>\n",
       "    </tr>\n",
       "    <tr>\n",
       "      <th>4</th>\n",
       "      <td>5</td>\n",
       "      <td>6.500000</td>\n",
       "      <td>0.000</td>\n",
       "      <td>0.000000</td>\n",
       "      <td>0.527226</td>\n",
       "      <td>0.527226</td>\n",
       "      <td>0.019</td>\n",
       "      <td>93.622536</td>\n",
       "    </tr>\n",
       "  </tbody>\n",
       "</table>\n",
       "</div>"
      ],
      "text/plain": [
       "   _id   velocity  height     width  dia_by_frict  dia_by_vel  f_factor  \\\n",
       "0    1   6.500000   0.254  0.423985      0.317683    0.370170     0.019   \n",
       "1    2   6.500000   0.000  0.000000      0.207522    0.207522     0.019   \n",
       "2    3  10.762902   0.000  0.000000      0.330000    0.330000     0.019   \n",
       "3    4   6.500000   0.000  0.000000      0.312851    0.312851     0.019   \n",
       "4    5   6.500000   0.000  0.000000      0.527226    0.527226     0.019   \n",
       "\n",
       "   total_delta_P  \n",
       "0      66.505860  \n",
       "1      81.829029  \n",
       "2      44.524704  \n",
       "3      41.110319  \n",
       "4      93.622536  "
      ]
     },
     "metadata": {},
     "output_type": "display_data"
    },
    {
     "name": "stdout",
     "output_type": "stream",
     "text": [
      "Condensing Data:\n"
     ]
    },
    {
     "data": {
      "text/html": [
       "<div>\n",
       "<table border=\"1\" class=\"dataframe\">\n",
       "  <thead>\n",
       "    <tr style=\"text-align: right;\">\n",
       "      <th></th>\n",
       "      <th>_id</th>\n",
       "      <th>mu</th>\n",
       "      <th>Ks</th>\n",
       "      <th>Kt</th>\n",
       "      <th>T</th>\n",
       "      <th>max_delta_P</th>\n",
       "    </tr>\n",
       "  </thead>\n",
       "  <tbody>\n",
       "    <tr>\n",
       "      <th>0</th>\n",
       "      <td>1</td>\n",
       "      <td>0.606084</td>\n",
       "      <td>12.800500</td>\n",
       "      <td>12.800500</td>\n",
       "      <td>1.000000</td>\n",
       "      <td>25.000000</td>\n",
       "    </tr>\n",
       "    <tr>\n",
       "      <th>1</th>\n",
       "      <td>2</td>\n",
       "      <td>0.362889</td>\n",
       "      <td>5.346938</td>\n",
       "      <td>5.346938</td>\n",
       "      <td>1.000000</td>\n",
       "      <td>37.500000</td>\n",
       "    </tr>\n",
       "    <tr>\n",
       "      <th>2</th>\n",
       "      <td>3</td>\n",
       "      <td>0.211400</td>\n",
       "      <td>0.000000</td>\n",
       "      <td>18.126410</td>\n",
       "      <td>0.000000</td>\n",
       "      <td>82.024704</td>\n",
       "    </tr>\n",
       "    <tr>\n",
       "      <th>3</th>\n",
       "      <td>4</td>\n",
       "      <td>0.507353</td>\n",
       "      <td>10.586930</td>\n",
       "      <td>10.586930</td>\n",
       "      <td>1.000000</td>\n",
       "      <td>0.000000</td>\n",
       "    </tr>\n",
       "    <tr>\n",
       "      <th>4</th>\n",
       "      <td>5</td>\n",
       "      <td>1.167229</td>\n",
       "      <td>23.508829</td>\n",
       "      <td>59.859523</td>\n",
       "      <td>0.459075</td>\n",
       "      <td>119.524704</td>\n",
       "    </tr>\n",
       "  </tbody>\n",
       "</table>\n",
       "</div>"
      ],
      "text/plain": [
       "   _id        mu         Ks         Kt         T  max_delta_P\n",
       "0    1  0.606084  12.800500  12.800500  1.000000    25.000000\n",
       "1    2  0.362889   5.346938   5.346938  1.000000    37.500000\n",
       "2    3  0.211400   0.000000  18.126410  0.000000    82.024704\n",
       "3    4  0.507353  10.586930  10.586930  1.000000     0.000000\n",
       "4    5  1.167229  23.508829  59.859523  0.459075   119.524704"
      ]
     },
     "metadata": {},
     "output_type": "display_data"
    },
    {
     "name": "stdout",
     "output_type": "stream",
     "text": [
      "Expansion Data:\n"
     ]
    },
    {
     "data": {
      "text/html": [
       "<div>\n",
       "<table border=\"1\" class=\"dataframe\">\n",
       "  <thead>\n",
       "    <tr style=\"text-align: right;\">\n",
       "      <th></th>\n",
       "      <th>_id</th>\n",
       "      <th>up_press</th>\n",
       "      <th>req_delta_P</th>\n",
       "      <th>req_delta_P_total</th>\n",
       "      <th>down_press</th>\n",
       "      <th>est_dia</th>\n",
       "    </tr>\n",
       "  </thead>\n",
       "  <tbody>\n",
       "    <tr>\n",
       "      <th>0</th>\n",
       "      <td>1</td>\n",
       "      <td>191.719937</td>\n",
       "      <td>166.719937</td>\n",
       "      <td>191.719937</td>\n",
       "      <td>0.000000</td>\n",
       "      <td>0.280416</td>\n",
       "    </tr>\n",
       "    <tr>\n",
       "      <th>1</th>\n",
       "      <td>2</td>\n",
       "      <td>191.719937</td>\n",
       "      <td>154.219937</td>\n",
       "      <td>191.719937</td>\n",
       "      <td>0.000000</td>\n",
       "      <td>0.161790</td>\n",
       "    </tr>\n",
       "    <tr>\n",
       "      <th>2</th>\n",
       "      <td>3</td>\n",
       "      <td>236.244642</td>\n",
       "      <td>44.524704</td>\n",
       "      <td>44.524704</td>\n",
       "      <td>191.719937</td>\n",
       "      <td>0.330000</td>\n",
       "    </tr>\n",
       "    <tr>\n",
       "      <th>3</th>\n",
       "      <td>4</td>\n",
       "      <td>236.244642</td>\n",
       "      <td>236.244642</td>\n",
       "      <td>236.244642</td>\n",
       "      <td>0.000000</td>\n",
       "      <td>0.220614</td>\n",
       "    </tr>\n",
       "    <tr>\n",
       "      <th>4</th>\n",
       "      <td>5</td>\n",
       "      <td>404.628684</td>\n",
       "      <td>130.884042</td>\n",
       "      <td>168.384042</td>\n",
       "      <td>236.244642</td>\n",
       "      <td>0.445271</td>\n",
       "    </tr>\n",
       "  </tbody>\n",
       "</table>\n",
       "</div>"
      ],
      "text/plain": [
       "   _id    up_press  req_delta_P  req_delta_P_total  down_press   est_dia\n",
       "0    1  191.719937   166.719937         191.719937    0.000000  0.280416\n",
       "1    2  191.719937   154.219937         191.719937    0.000000  0.161790\n",
       "2    3  236.244642    44.524704          44.524704  191.719937  0.330000\n",
       "3    4  236.244642   236.244642         236.244642    0.000000  0.220614\n",
       "4    5  404.628684   130.884042         168.384042  236.244642  0.445271"
      ]
     },
     "metadata": {},
     "output_type": "display_data"
    },
    {
     "name": "stdout",
     "output_type": "stream",
     "text": [
      "Pressure Loss Data:\n"
     ]
    },
    {
     "data": {
      "text/html": [
       "<div>\n",
       "<table border=\"1\" class=\"dataframe\">\n",
       "  <thead>\n",
       "    <tr style=\"text-align: right;\">\n",
       "      <th></th>\n",
       "      <th>_id</th>\n",
       "      <th>total_path_delta_P</th>\n",
       "      <th>exces_path_delta_P</th>\n",
       "    </tr>\n",
       "  </thead>\n",
       "  <tbody>\n",
       "    <tr>\n",
       "      <th>0</th>\n",
       "      <td>1</td>\n",
       "      <td>204.653101</td>\n",
       "      <td>199.975583</td>\n",
       "    </tr>\n",
       "    <tr>\n",
       "      <th>1</th>\n",
       "      <td>2</td>\n",
       "      <td>219.976270</td>\n",
       "      <td>184.652414</td>\n",
       "    </tr>\n",
       "    <tr>\n",
       "      <th>2</th>\n",
       "      <td>3</td>\n",
       "      <td>138.147240</td>\n",
       "      <td>NaN</td>\n",
       "    </tr>\n",
       "    <tr>\n",
       "      <th>3</th>\n",
       "      <td>4</td>\n",
       "      <td>134.732855</td>\n",
       "      <td>269.895829</td>\n",
       "    </tr>\n",
       "    <tr>\n",
       "      <th>4</th>\n",
       "      <td>5</td>\n",
       "      <td>93.622536</td>\n",
       "      <td>NaN</td>\n",
       "    </tr>\n",
       "  </tbody>\n",
       "</table>\n",
       "</div>"
      ],
      "text/plain": [
       "   _id  total_path_delta_P  exces_path_delta_P\n",
       "0    1          204.653101          199.975583\n",
       "1    2          219.976270          184.652414\n",
       "2    3          138.147240                 NaN\n",
       "3    4          134.732855          269.895829\n",
       "4    5           93.622536                 NaN"
      ]
     },
     "metadata": {},
     "output_type": "display_data"
    }
   ],
   "source": [
    "display_data(test_system)"
   ]
  },
  {
   "cell_type": "code",
   "execution_count": 36,
   "metadata": {
    "collapsed": false
   },
   "outputs": [],
   "source": [
    "#test_system.parents"
   ]
  },
  {
   "cell_type": "markdown",
   "metadata": {
    "collapsed": false
   },
   "source": [
    "## First Iteration"
   ]
  },
  {
   "cell_type": "code",
   "execution_count": null,
   "metadata": {
    "collapsed": false
   },
   "outputs": [],
   "source": []
  },
  {
   "cell_type": "code",
   "execution_count": 51,
   "metadata": {
    "collapsed": true
   },
   "outputs": [],
   "source": [
    "test_system.iterate()"
   ]
  },
  {
   "cell_type": "code",
   "execution_count": 52,
   "metadata": {
    "collapsed": false
   },
   "outputs": [
    {
     "name": "stdout",
     "output_type": "stream",
     "text": [
      "Input Data:\n"
     ]
    },
    {
     "data": {
      "text/html": [
       "<div>\n",
       "<table border=\"1\" class=\"dataframe\">\n",
       "  <thead>\n",
       "    <tr style=\"text-align: right;\">\n",
       "      <th></th>\n",
       "      <th>_id</th>\n",
       "      <th>ch1</th>\n",
       "      <th>ch2</th>\n",
       "      <th>is_rect</th>\n",
       "      <th>is_presized</th>\n",
       "      <th>air_flow</th>\n",
       "      <th>duct_length</th>\n",
       "      <th>delta_p_z</th>\n",
       "      <th>rough_factor</th>\n",
       "      <th>req_height</th>\n",
       "      <th>req_width</th>\n",
       "      <th>req_dia</th>\n",
       "      <th>loss_coeff</th>\n",
       "    </tr>\n",
       "  </thead>\n",
       "  <tbody>\n",
       "    <tr>\n",
       "      <th>0</th>\n",
       "      <td>1</td>\n",
       "      <td>0</td>\n",
       "      <td>0</td>\n",
       "      <td>True</td>\n",
       "      <td>False</td>\n",
       "      <td>0.70</td>\n",
       "      <td>14.00</td>\n",
       "      <td>25.0</td>\n",
       "      <td>0.0</td>\n",
       "      <td>0.254</td>\n",
       "      <td>0.0</td>\n",
       "      <td>0.00</td>\n",
       "      <td>0.80</td>\n",
       "    </tr>\n",
       "    <tr>\n",
       "      <th>1</th>\n",
       "      <td>2</td>\n",
       "      <td>0</td>\n",
       "      <td>0</td>\n",
       "      <td>False</td>\n",
       "      <td>False</td>\n",
       "      <td>0.22</td>\n",
       "      <td>12.00</td>\n",
       "      <td>37.5</td>\n",
       "      <td>0.0</td>\n",
       "      <td>0.000</td>\n",
       "      <td>0.0</td>\n",
       "      <td>0.00</td>\n",
       "      <td>0.65</td>\n",
       "    </tr>\n",
       "    <tr>\n",
       "      <th>2</th>\n",
       "      <td>3</td>\n",
       "      <td>1</td>\n",
       "      <td>2</td>\n",
       "      <td>False</td>\n",
       "      <td>True</td>\n",
       "      <td>0.92</td>\n",
       "      <td>8.00</td>\n",
       "      <td>0.0</td>\n",
       "      <td>0.0</td>\n",
       "      <td>0.000</td>\n",
       "      <td>0.0</td>\n",
       "      <td>0.33</td>\n",
       "      <td>0.18</td>\n",
       "    </tr>\n",
       "    <tr>\n",
       "      <th>3</th>\n",
       "      <td>4</td>\n",
       "      <td>0</td>\n",
       "      <td>0</td>\n",
       "      <td>False</td>\n",
       "      <td>False</td>\n",
       "      <td>0.50</td>\n",
       "      <td>16.00</td>\n",
       "      <td>0.0</td>\n",
       "      <td>0.0</td>\n",
       "      <td>0.000</td>\n",
       "      <td>0.0</td>\n",
       "      <td>0.00</td>\n",
       "      <td>0.65</td>\n",
       "    </tr>\n",
       "    <tr>\n",
       "      <th>4</th>\n",
       "      <td>5</td>\n",
       "      <td>3</td>\n",
       "      <td>4</td>\n",
       "      <td>False</td>\n",
       "      <td>False</td>\n",
       "      <td>1.42</td>\n",
       "      <td>19.81</td>\n",
       "      <td>37.5</td>\n",
       "      <td>0.0</td>\n",
       "      <td>0.000</td>\n",
       "      <td>0.0</td>\n",
       "      <td>0.00</td>\n",
       "      <td>1.50</td>\n",
       "    </tr>\n",
       "  </tbody>\n",
       "</table>\n",
       "</div>"
      ],
      "text/plain": [
       "   _id  ch1  ch2 is_rect is_presized  air_flow  duct_length  delta_p_z  \\\n",
       "0    1    0    0    True       False      0.70        14.00       25.0   \n",
       "1    2    0    0   False       False      0.22        12.00       37.5   \n",
       "2    3    1    2   False        True      0.92         8.00        0.0   \n",
       "3    4    0    0   False       False      0.50        16.00        0.0   \n",
       "4    5    3    4   False       False      1.42        19.81       37.5   \n",
       "\n",
       "   rough_factor  req_height  req_width  req_dia  loss_coeff  \n",
       "0           0.0       0.254        0.0     0.00        0.80  \n",
       "1           0.0       0.000        0.0     0.00        0.65  \n",
       "2           0.0       0.000        0.0     0.33        0.18  \n",
       "3           0.0       0.000        0.0     0.00        0.65  \n",
       "4           0.0       0.000        0.0     0.00        1.50  "
      ]
     },
     "metadata": {},
     "output_type": "display_data"
    },
    {
     "name": "stdout",
     "output_type": "stream",
     "text": [
      "Velocity-Size-Friction Data:\n"
     ]
    },
    {
     "data": {
      "text/html": [
       "<div>\n",
       "<table border=\"1\" class=\"dataframe\">\n",
       "  <thead>\n",
       "    <tr style=\"text-align: right;\">\n",
       "      <th></th>\n",
       "      <th>_id</th>\n",
       "      <th>velocity</th>\n",
       "      <th>height</th>\n",
       "      <th>width</th>\n",
       "      <th>dia_by_frict</th>\n",
       "      <th>dia_by_vel</th>\n",
       "      <th>f_factor</th>\n",
       "      <th>total_delta_P</th>\n",
       "    </tr>\n",
       "  </thead>\n",
       "  <tbody>\n",
       "    <tr>\n",
       "      <th>0</th>\n",
       "      <td>1</td>\n",
       "      <td>11.340236</td>\n",
       "      <td>0.254</td>\n",
       "      <td>0.24302</td>\n",
       "      <td>0.248389</td>\n",
       "      <td>0.280416</td>\n",
       "      <td>0.021929</td>\n",
       "      <td>182.099797</td>\n",
       "    </tr>\n",
       "    <tr>\n",
       "      <th>1</th>\n",
       "      <td>2</td>\n",
       "      <td>10.707568</td>\n",
       "      <td>0.000</td>\n",
       "      <td>0.00000</td>\n",
       "      <td>0.161790</td>\n",
       "      <td>0.161790</td>\n",
       "      <td>0.024495</td>\n",
       "      <td>207.192638</td>\n",
       "    </tr>\n",
       "    <tr>\n",
       "      <th>2</th>\n",
       "      <td>3</td>\n",
       "      <td>10.762902</td>\n",
       "      <td>0.000</td>\n",
       "      <td>0.00000</td>\n",
       "      <td>0.330000</td>\n",
       "      <td>0.330000</td>\n",
       "      <td>0.020490</td>\n",
       "      <td>47.035363</td>\n",
       "    </tr>\n",
       "    <tr>\n",
       "      <th>3</th>\n",
       "      <td>4</td>\n",
       "      <td>13.088033</td>\n",
       "      <td>0.000</td>\n",
       "      <td>0.00000</td>\n",
       "      <td>0.220614</td>\n",
       "      <td>0.220614</td>\n",
       "      <td>0.022410</td>\n",
       "      <td>233.846011</td>\n",
       "    </tr>\n",
       "    <tr>\n",
       "      <th>4</th>\n",
       "      <td>5</td>\n",
       "      <td>9.124513</td>\n",
       "      <td>0.000</td>\n",
       "      <td>0.00000</td>\n",
       "      <td>0.445271</td>\n",
       "      <td>0.445271</td>\n",
       "      <td>0.019217</td>\n",
       "      <td>155.140026</td>\n",
       "    </tr>\n",
       "  </tbody>\n",
       "</table>\n",
       "</div>"
      ],
      "text/plain": [
       "   _id   velocity  height    width  dia_by_frict  dia_by_vel  f_factor  \\\n",
       "0    1  11.340236   0.254  0.24302      0.248389    0.280416  0.021929   \n",
       "1    2  10.707568   0.000  0.00000      0.161790    0.161790  0.024495   \n",
       "2    3  10.762902   0.000  0.00000      0.330000    0.330000  0.020490   \n",
       "3    4  13.088033   0.000  0.00000      0.220614    0.220614  0.022410   \n",
       "4    5   9.124513   0.000  0.00000      0.445271    0.445271  0.019217   \n",
       "\n",
       "   total_delta_P  \n",
       "0     182.099797  \n",
       "1     207.192638  \n",
       "2      47.035363  \n",
       "3     233.846011  \n",
       "4     155.140026  "
      ]
     },
     "metadata": {},
     "output_type": "display_data"
    },
    {
     "name": "stdout",
     "output_type": "stream",
     "text": [
      "Condensing Data:\n"
     ]
    },
    {
     "data": {
      "text/html": [
       "<div>\n",
       "<table border=\"1\" class=\"dataframe\">\n",
       "  <thead>\n",
       "    <tr style=\"text-align: right;\">\n",
       "      <th></th>\n",
       "      <th>_id</th>\n",
       "      <th>mu</th>\n",
       "      <th>Ks</th>\n",
       "      <th>Kt</th>\n",
       "      <th>T</th>\n",
       "      <th>max_delta_P</th>\n",
       "    </tr>\n",
       "  </thead>\n",
       "  <tbody>\n",
       "    <tr>\n",
       "      <th>0</th>\n",
       "      <td>1</td>\n",
       "      <td>0.570931</td>\n",
       "      <td>12.247430</td>\n",
       "      <td>12.247430</td>\n",
       "      <td>1.000000</td>\n",
       "      <td>25.000000</td>\n",
       "    </tr>\n",
       "    <tr>\n",
       "      <th>1</th>\n",
       "      <td>2</td>\n",
       "      <td>0.399099</td>\n",
       "      <td>5.449623</td>\n",
       "      <td>5.449623</td>\n",
       "      <td>1.000000</td>\n",
       "      <td>37.500000</td>\n",
       "    </tr>\n",
       "    <tr>\n",
       "      <th>2</th>\n",
       "      <td>3</td>\n",
       "      <td>0.223320</td>\n",
       "      <td>0.000000</td>\n",
       "      <td>17.676725</td>\n",
       "      <td>0.000000</td>\n",
       "      <td>84.535363</td>\n",
       "    </tr>\n",
       "    <tr>\n",
       "      <th>3</th>\n",
       "      <td>4</td>\n",
       "      <td>0.501952</td>\n",
       "      <td>10.564294</td>\n",
       "      <td>10.564294</td>\n",
       "      <td>1.000000</td>\n",
       "      <td>0.000000</td>\n",
       "    </tr>\n",
       "    <tr>\n",
       "      <th>4</th>\n",
       "      <td>5</td>\n",
       "      <td>1.048597</td>\n",
       "      <td>23.010259</td>\n",
       "      <td>58.744698</td>\n",
       "      <td>0.458068</td>\n",
       "      <td>122.035363</td>\n",
       "    </tr>\n",
       "  </tbody>\n",
       "</table>\n",
       "</div>"
      ],
      "text/plain": [
       "   _id        mu         Ks         Kt         T  max_delta_P\n",
       "0    1  0.570931  12.247430  12.247430  1.000000    25.000000\n",
       "1    2  0.399099   5.449623   5.449623  1.000000    37.500000\n",
       "2    3  0.223320   0.000000  17.676725  0.000000    84.535363\n",
       "3    4  0.501952  10.564294  10.564294  1.000000     0.000000\n",
       "4    5  1.048597  23.010259  58.744698  0.458068   122.035363"
      ]
     },
     "metadata": {},
     "output_type": "display_data"
    },
    {
     "name": "stdout",
     "output_type": "stream",
     "text": [
      "Expansion Data:\n"
     ]
    },
    {
     "data": {
      "text/html": [
       "<div>\n",
       "<table border=\"1\" class=\"dataframe\">\n",
       "  <thead>\n",
       "    <tr style=\"text-align: right;\">\n",
       "      <th></th>\n",
       "      <th>_id</th>\n",
       "      <th>up_press</th>\n",
       "      <th>req_delta_P</th>\n",
       "      <th>req_delta_P_total</th>\n",
       "      <th>down_press</th>\n",
       "      <th>est_dia</th>\n",
       "    </tr>\n",
       "  </thead>\n",
       "  <tbody>\n",
       "    <tr>\n",
       "      <th>0</th>\n",
       "      <td>1</td>\n",
       "      <td>189.605339</td>\n",
       "      <td>164.605339</td>\n",
       "      <td>189.605339</td>\n",
       "      <td>0.000000</td>\n",
       "      <td>0.277793</td>\n",
       "    </tr>\n",
       "    <tr>\n",
       "      <th>1</th>\n",
       "      <td>2</td>\n",
       "      <td>189.605339</td>\n",
       "      <td>152.105339</td>\n",
       "      <td>189.605339</td>\n",
       "      <td>0.000000</td>\n",
       "      <td>0.165353</td>\n",
       "    </tr>\n",
       "    <tr>\n",
       "      <th>2</th>\n",
       "      <td>3</td>\n",
       "      <td>236.640701</td>\n",
       "      <td>47.035363</td>\n",
       "      <td>47.035363</td>\n",
       "      <td>189.605339</td>\n",
       "      <td>0.330000</td>\n",
       "    </tr>\n",
       "    <tr>\n",
       "      <th>3</th>\n",
       "      <td>4</td>\n",
       "      <td>236.640701</td>\n",
       "      <td>236.640701</td>\n",
       "      <td>236.640701</td>\n",
       "      <td>0.000000</td>\n",
       "      <td>0.220068</td>\n",
       "    </tr>\n",
       "    <tr>\n",
       "      <th>4</th>\n",
       "      <td>5</td>\n",
       "      <td>402.707603</td>\n",
       "      <td>128.566902</td>\n",
       "      <td>166.066902</td>\n",
       "      <td>236.640701</td>\n",
       "      <td>0.437387</td>\n",
       "    </tr>\n",
       "  </tbody>\n",
       "</table>\n",
       "</div>"
      ],
      "text/plain": [
       "   _id    up_press  req_delta_P  req_delta_P_total  down_press   est_dia\n",
       "0    1  189.605339   164.605339         189.605339    0.000000  0.277793\n",
       "1    2  189.605339   152.105339         189.605339    0.000000  0.165353\n",
       "2    3  236.640701    47.035363          47.035363  189.605339  0.330000\n",
       "3    4  236.640701   236.640701         236.640701    0.000000  0.220068\n",
       "4    5  402.707603   128.566902         166.066902  236.640701  0.437387"
      ]
     },
     "metadata": {},
     "output_type": "display_data"
    },
    {
     "name": "stdout",
     "output_type": "stream",
     "text": [
      "Pressure Loss Data:\n"
     ]
    },
    {
     "data": {
      "text/html": [
       "<div>\n",
       "<table border=\"1\" class=\"dataframe\">\n",
       "  <thead>\n",
       "    <tr style=\"text-align: right;\">\n",
       "      <th></th>\n",
       "      <th>_id</th>\n",
       "      <th>total_path_delta_P</th>\n",
       "      <th>exces_path_delta_P</th>\n",
       "    </tr>\n",
       "  </thead>\n",
       "  <tbody>\n",
       "    <tr>\n",
       "      <th>0</th>\n",
       "      <td>1</td>\n",
       "      <td>384.275186</td>\n",
       "      <td>18.432418</td>\n",
       "    </tr>\n",
       "    <tr>\n",
       "      <th>1</th>\n",
       "      <td>2</td>\n",
       "      <td>409.368027</td>\n",
       "      <td>-6.660424</td>\n",
       "    </tr>\n",
       "    <tr>\n",
       "      <th>2</th>\n",
       "      <td>3</td>\n",
       "      <td>202.175389</td>\n",
       "      <td>NaN</td>\n",
       "    </tr>\n",
       "    <tr>\n",
       "      <th>3</th>\n",
       "      <td>4</td>\n",
       "      <td>388.986037</td>\n",
       "      <td>13.721567</td>\n",
       "    </tr>\n",
       "    <tr>\n",
       "      <th>4</th>\n",
       "      <td>5</td>\n",
       "      <td>155.140026</td>\n",
       "      <td>NaN</td>\n",
       "    </tr>\n",
       "  </tbody>\n",
       "</table>\n",
       "</div>"
      ],
      "text/plain": [
       "   _id  total_path_delta_P  exces_path_delta_P\n",
       "0    1          384.275186           18.432418\n",
       "1    2          409.368027           -6.660424\n",
       "2    3          202.175389                 NaN\n",
       "3    4          388.986037           13.721567\n",
       "4    5          155.140026                 NaN"
      ]
     },
     "metadata": {},
     "output_type": "display_data"
    }
   ],
   "source": [
    "display_data(test_system)"
   ]
  },
  {
   "cell_type": "code",
   "execution_count": null,
   "metadata": {
    "collapsed": false
   },
   "outputs": [],
   "source": []
  },
  {
   "cell_type": "markdown",
   "metadata": {},
   "source": [
    "## Second Iteration"
   ]
  },
  {
   "cell_type": "code",
   "execution_count": 53,
   "metadata": {
    "collapsed": true
   },
   "outputs": [],
   "source": [
    "test_system.iterate()"
   ]
  },
  {
   "cell_type": "code",
   "execution_count": 54,
   "metadata": {
    "collapsed": false
   },
   "outputs": [
    {
     "name": "stdout",
     "output_type": "stream",
     "text": [
      "Input Data:\n"
     ]
    },
    {
     "data": {
      "text/html": [
       "<div>\n",
       "<table border=\"1\" class=\"dataframe\">\n",
       "  <thead>\n",
       "    <tr style=\"text-align: right;\">\n",
       "      <th></th>\n",
       "      <th>_id</th>\n",
       "      <th>ch1</th>\n",
       "      <th>ch2</th>\n",
       "      <th>is_rect</th>\n",
       "      <th>is_presized</th>\n",
       "      <th>air_flow</th>\n",
       "      <th>duct_length</th>\n",
       "      <th>delta_p_z</th>\n",
       "      <th>rough_factor</th>\n",
       "      <th>req_height</th>\n",
       "      <th>req_width</th>\n",
       "      <th>req_dia</th>\n",
       "      <th>loss_coeff</th>\n",
       "    </tr>\n",
       "  </thead>\n",
       "  <tbody>\n",
       "    <tr>\n",
       "      <th>0</th>\n",
       "      <td>1</td>\n",
       "      <td>0</td>\n",
       "      <td>0</td>\n",
       "      <td>True</td>\n",
       "      <td>False</td>\n",
       "      <td>0.70</td>\n",
       "      <td>14.00</td>\n",
       "      <td>25.0</td>\n",
       "      <td>0.0</td>\n",
       "      <td>0.254</td>\n",
       "      <td>0.0</td>\n",
       "      <td>0.00</td>\n",
       "      <td>0.80</td>\n",
       "    </tr>\n",
       "    <tr>\n",
       "      <th>1</th>\n",
       "      <td>2</td>\n",
       "      <td>0</td>\n",
       "      <td>0</td>\n",
       "      <td>False</td>\n",
       "      <td>False</td>\n",
       "      <td>0.22</td>\n",
       "      <td>12.00</td>\n",
       "      <td>37.5</td>\n",
       "      <td>0.0</td>\n",
       "      <td>0.000</td>\n",
       "      <td>0.0</td>\n",
       "      <td>0.00</td>\n",
       "      <td>0.65</td>\n",
       "    </tr>\n",
       "    <tr>\n",
       "      <th>2</th>\n",
       "      <td>3</td>\n",
       "      <td>1</td>\n",
       "      <td>2</td>\n",
       "      <td>False</td>\n",
       "      <td>True</td>\n",
       "      <td>0.92</td>\n",
       "      <td>8.00</td>\n",
       "      <td>0.0</td>\n",
       "      <td>0.0</td>\n",
       "      <td>0.000</td>\n",
       "      <td>0.0</td>\n",
       "      <td>0.33</td>\n",
       "      <td>0.18</td>\n",
       "    </tr>\n",
       "    <tr>\n",
       "      <th>3</th>\n",
       "      <td>4</td>\n",
       "      <td>0</td>\n",
       "      <td>0</td>\n",
       "      <td>False</td>\n",
       "      <td>False</td>\n",
       "      <td>0.50</td>\n",
       "      <td>16.00</td>\n",
       "      <td>0.0</td>\n",
       "      <td>0.0</td>\n",
       "      <td>0.000</td>\n",
       "      <td>0.0</td>\n",
       "      <td>0.00</td>\n",
       "      <td>0.65</td>\n",
       "    </tr>\n",
       "    <tr>\n",
       "      <th>4</th>\n",
       "      <td>5</td>\n",
       "      <td>3</td>\n",
       "      <td>4</td>\n",
       "      <td>False</td>\n",
       "      <td>False</td>\n",
       "      <td>1.42</td>\n",
       "      <td>19.81</td>\n",
       "      <td>37.5</td>\n",
       "      <td>0.0</td>\n",
       "      <td>0.000</td>\n",
       "      <td>0.0</td>\n",
       "      <td>0.00</td>\n",
       "      <td>1.50</td>\n",
       "    </tr>\n",
       "  </tbody>\n",
       "</table>\n",
       "</div>"
      ],
      "text/plain": [
       "   _id  ch1  ch2 is_rect is_presized  air_flow  duct_length  delta_p_z  \\\n",
       "0    1    0    0    True       False      0.70        14.00       25.0   \n",
       "1    2    0    0   False       False      0.22        12.00       37.5   \n",
       "2    3    1    2   False        True      0.92         8.00        0.0   \n",
       "3    4    0    0   False       False      0.50        16.00        0.0   \n",
       "4    5    3    4   False       False      1.42        19.81       37.5   \n",
       "\n",
       "   rough_factor  req_height  req_width  req_dia  loss_coeff  \n",
       "0           0.0       0.254        0.0     0.00        0.80  \n",
       "1           0.0       0.000        0.0     0.00        0.65  \n",
       "2           0.0       0.000        0.0     0.33        0.18  \n",
       "3           0.0       0.000        0.0     0.00        0.65  \n",
       "4           0.0       0.000        0.0     0.00        1.50  "
      ]
     },
     "metadata": {},
     "output_type": "display_data"
    },
    {
     "name": "stdout",
     "output_type": "stream",
     "text": [
      "Velocity-Size-Friction Data:\n"
     ]
    },
    {
     "data": {
      "text/html": [
       "<div>\n",
       "<table border=\"1\" class=\"dataframe\">\n",
       "  <thead>\n",
       "    <tr style=\"text-align: right;\">\n",
       "      <th></th>\n",
       "      <th>_id</th>\n",
       "      <th>velocity</th>\n",
       "      <th>height</th>\n",
       "      <th>width</th>\n",
       "      <th>dia_by_frict</th>\n",
       "      <th>dia_by_vel</th>\n",
       "      <th>f_factor</th>\n",
       "      <th>total_delta_P</th>\n",
       "    </tr>\n",
       "  </thead>\n",
       "  <tbody>\n",
       "    <tr>\n",
       "      <th>0</th>\n",
       "      <td>1</td>\n",
       "      <td>11.555386</td>\n",
       "      <td>0.254</td>\n",
       "      <td>0.238495</td>\n",
       "      <td>0.246004</td>\n",
       "      <td>0.277793</td>\n",
       "      <td>0.021958</td>\n",
       "      <td>189.209042</td>\n",
       "    </tr>\n",
       "    <tr>\n",
       "      <th>1</th>\n",
       "      <td>2</td>\n",
       "      <td>10.251083</td>\n",
       "      <td>0.000</td>\n",
       "      <td>0.000000</td>\n",
       "      <td>0.165353</td>\n",
       "      <td>0.165353</td>\n",
       "      <td>0.024428</td>\n",
       "      <td>190.259182</td>\n",
       "    </tr>\n",
       "    <tr>\n",
       "      <th>2</th>\n",
       "      <td>3</td>\n",
       "      <td>10.762902</td>\n",
       "      <td>0.000</td>\n",
       "      <td>0.000000</td>\n",
       "      <td>0.330000</td>\n",
       "      <td>0.330000</td>\n",
       "      <td>0.020490</td>\n",
       "      <td>47.035363</td>\n",
       "    </tr>\n",
       "    <tr>\n",
       "      <th>3</th>\n",
       "      <td>4</td>\n",
       "      <td>13.152990</td>\n",
       "      <td>0.000</td>\n",
       "      <td>0.000000</td>\n",
       "      <td>0.220068</td>\n",
       "      <td>0.220068</td>\n",
       "      <td>0.022418</td>\n",
       "      <td>236.651791</td>\n",
       "    </tr>\n",
       "    <tr>\n",
       "      <th>4</th>\n",
       "      <td>5</td>\n",
       "      <td>9.456396</td>\n",
       "      <td>0.000</td>\n",
       "      <td>0.000000</td>\n",
       "      <td>0.437387</td>\n",
       "      <td>0.437387</td>\n",
       "      <td>0.019256</td>\n",
       "      <td>164.774943</td>\n",
       "    </tr>\n",
       "  </tbody>\n",
       "</table>\n",
       "</div>"
      ],
      "text/plain": [
       "   _id   velocity  height     width  dia_by_frict  dia_by_vel  f_factor  \\\n",
       "0    1  11.555386   0.254  0.238495      0.246004    0.277793  0.021958   \n",
       "1    2  10.251083   0.000  0.000000      0.165353    0.165353  0.024428   \n",
       "2    3  10.762902   0.000  0.000000      0.330000    0.330000  0.020490   \n",
       "3    4  13.152990   0.000  0.000000      0.220068    0.220068  0.022418   \n",
       "4    5   9.456396   0.000  0.000000      0.437387    0.437387  0.019256   \n",
       "\n",
       "   total_delta_P  \n",
       "0     189.209042  \n",
       "1     190.259182  \n",
       "2      47.035363  \n",
       "3     236.651791  \n",
       "4     164.774943  "
      ]
     },
     "metadata": {},
     "output_type": "display_data"
    },
    {
     "name": "stdout",
     "output_type": "stream",
     "text": [
      "Condensing Data:\n"
     ]
    },
    {
     "data": {
      "text/html": [
       "<div>\n",
       "<table border=\"1\" class=\"dataframe\">\n",
       "  <thead>\n",
       "    <tr style=\"text-align: right;\">\n",
       "      <th></th>\n",
       "      <th>_id</th>\n",
       "      <th>mu</th>\n",
       "      <th>Ks</th>\n",
       "      <th>Kt</th>\n",
       "      <th>T</th>\n",
       "      <th>max_delta_P</th>\n",
       "    </tr>\n",
       "  </thead>\n",
       "  <tbody>\n",
       "    <tr>\n",
       "      <th>0</th>\n",
       "      <td>1</td>\n",
       "      <td>0.569376</td>\n",
       "      <td>12.243833</td>\n",
       "      <td>12.243833</td>\n",
       "      <td>1.000000</td>\n",
       "      <td>25.000000</td>\n",
       "    </tr>\n",
       "    <tr>\n",
       "      <th>1</th>\n",
       "      <td>2</td>\n",
       "      <td>0.400615</td>\n",
       "      <td>5.453758</td>\n",
       "      <td>5.453758</td>\n",
       "      <td>1.000000</td>\n",
       "      <td>37.500000</td>\n",
       "    </tr>\n",
       "    <tr>\n",
       "      <th>2</th>\n",
       "      <td>3</td>\n",
       "      <td>0.223320</td>\n",
       "      <td>0.000000</td>\n",
       "      <td>17.677262</td>\n",
       "      <td>0.000000</td>\n",
       "      <td>84.535363</td>\n",
       "    </tr>\n",
       "    <tr>\n",
       "      <th>3</th>\n",
       "      <td>4</td>\n",
       "      <td>0.501726</td>\n",
       "      <td>10.563343</td>\n",
       "      <td>10.563343</td>\n",
       "      <td>1.000000</td>\n",
       "      <td>0.000000</td>\n",
       "    </tr>\n",
       "    <tr>\n",
       "      <th>4</th>\n",
       "      <td>5</td>\n",
       "      <td>1.037544</td>\n",
       "      <td>22.961544</td>\n",
       "      <td>58.687356</td>\n",
       "      <td>0.457632</td>\n",
       "      <td>122.035363</td>\n",
       "    </tr>\n",
       "  </tbody>\n",
       "</table>\n",
       "</div>"
      ],
      "text/plain": [
       "   _id        mu         Ks         Kt         T  max_delta_P\n",
       "0    1  0.569376  12.243833  12.243833  1.000000    25.000000\n",
       "1    2  0.400615   5.453758   5.453758  1.000000    37.500000\n",
       "2    3  0.223320   0.000000  17.677262  0.000000    84.535363\n",
       "3    4  0.501726  10.563343  10.563343  1.000000     0.000000\n",
       "4    5  1.037544  22.961544  58.687356  0.457632   122.035363"
      ]
     },
     "metadata": {},
     "output_type": "display_data"
    },
    {
     "name": "stdout",
     "output_type": "stream",
     "text": [
      "Expansion Data:\n"
     ]
    },
    {
     "data": {
      "text/html": [
       "<div>\n",
       "<table border=\"1\" class=\"dataframe\">\n",
       "  <thead>\n",
       "    <tr style=\"text-align: right;\">\n",
       "      <th></th>\n",
       "      <th>_id</th>\n",
       "      <th>up_press</th>\n",
       "      <th>req_delta_P</th>\n",
       "      <th>req_delta_P_total</th>\n",
       "      <th>down_press</th>\n",
       "      <th>est_dia</th>\n",
       "    </tr>\n",
       "  </thead>\n",
       "  <tbody>\n",
       "    <tr>\n",
       "      <th>0</th>\n",
       "      <td>1</td>\n",
       "      <td>189.603829</td>\n",
       "      <td>164.603829</td>\n",
       "      <td>189.603829</td>\n",
       "      <td>0.000000</td>\n",
       "      <td>0.277642</td>\n",
       "    </tr>\n",
       "    <tr>\n",
       "      <th>1</th>\n",
       "      <td>2</td>\n",
       "      <td>189.603829</td>\n",
       "      <td>152.103829</td>\n",
       "      <td>189.603829</td>\n",
       "      <td>0.000000</td>\n",
       "      <td>0.165478</td>\n",
       "    </tr>\n",
       "    <tr>\n",
       "      <th>2</th>\n",
       "      <td>3</td>\n",
       "      <td>236.639191</td>\n",
       "      <td>47.035363</td>\n",
       "      <td>47.035363</td>\n",
       "      <td>189.603829</td>\n",
       "      <td>0.330000</td>\n",
       "    </tr>\n",
       "    <tr>\n",
       "      <th>3</th>\n",
       "      <td>4</td>\n",
       "      <td>236.639191</td>\n",
       "      <td>236.639191</td>\n",
       "      <td>236.639191</td>\n",
       "      <td>0.000000</td>\n",
       "      <td>0.220049</td>\n",
       "    </tr>\n",
       "    <tr>\n",
       "      <th>4</th>\n",
       "      <td>5</td>\n",
       "      <td>402.479278</td>\n",
       "      <td>128.340087</td>\n",
       "      <td>165.840087</td>\n",
       "      <td>236.639191</td>\n",
       "      <td>0.436615</td>\n",
       "    </tr>\n",
       "  </tbody>\n",
       "</table>\n",
       "</div>"
      ],
      "text/plain": [
       "   _id    up_press  req_delta_P  req_delta_P_total  down_press   est_dia\n",
       "0    1  189.603829   164.603829         189.603829    0.000000  0.277642\n",
       "1    2  189.603829   152.103829         189.603829    0.000000  0.165478\n",
       "2    3  236.639191    47.035363          47.035363  189.603829  0.330000\n",
       "3    4  236.639191   236.639191         236.639191    0.000000  0.220049\n",
       "4    5  402.479278   128.340087         165.840087  236.639191  0.436615"
      ]
     },
     "metadata": {},
     "output_type": "display_data"
    },
    {
     "name": "stdout",
     "output_type": "stream",
     "text": [
      "Pressure Loss Data:\n"
     ]
    },
    {
     "data": {
      "text/html": [
       "<div>\n",
       "<table border=\"1\" class=\"dataframe\">\n",
       "  <thead>\n",
       "    <tr style=\"text-align: right;\">\n",
       "      <th></th>\n",
       "      <th>_id</th>\n",
       "      <th>total_path_delta_P</th>\n",
       "      <th>exces_path_delta_P</th>\n",
       "    </tr>\n",
       "  </thead>\n",
       "  <tbody>\n",
       "    <tr>\n",
       "      <th>0</th>\n",
       "      <td>1</td>\n",
       "      <td>401.019347</td>\n",
       "      <td>1.459931</td>\n",
       "    </tr>\n",
       "    <tr>\n",
       "      <th>1</th>\n",
       "      <td>2</td>\n",
       "      <td>402.069487</td>\n",
       "      <td>0.409791</td>\n",
       "    </tr>\n",
       "    <tr>\n",
       "      <th>2</th>\n",
       "      <td>3</td>\n",
       "      <td>211.810305</td>\n",
       "      <td>NaN</td>\n",
       "    </tr>\n",
       "    <tr>\n",
       "      <th>3</th>\n",
       "      <td>4</td>\n",
       "      <td>401.426733</td>\n",
       "      <td>1.052545</td>\n",
       "    </tr>\n",
       "    <tr>\n",
       "      <th>4</th>\n",
       "      <td>5</td>\n",
       "      <td>164.774943</td>\n",
       "      <td>NaN</td>\n",
       "    </tr>\n",
       "  </tbody>\n",
       "</table>\n",
       "</div>"
      ],
      "text/plain": [
       "   _id  total_path_delta_P  exces_path_delta_P\n",
       "0    1          401.019347            1.459931\n",
       "1    2          402.069487            0.409791\n",
       "2    3          211.810305                 NaN\n",
       "3    4          401.426733            1.052545\n",
       "4    5          164.774943                 NaN"
      ]
     },
     "metadata": {},
     "output_type": "display_data"
    }
   ],
   "source": [
    "display_data(test_system)"
   ]
  },
  {
   "cell_type": "code",
   "execution_count": null,
   "metadata": {
    "collapsed": true
   },
   "outputs": [],
   "source": []
  },
  {
   "cell_type": "code",
   "execution_count": null,
   "metadata": {
    "collapsed": true
   },
   "outputs": [],
   "source": []
  },
  {
   "cell_type": "code",
   "execution_count": null,
   "metadata": {
    "collapsed": true
   },
   "outputs": [],
   "source": []
  },
  {
   "cell_type": "code",
   "execution_count": null,
   "metadata": {
    "collapsed": true
   },
   "outputs": [],
   "source": []
  },
  {
   "cell_type": "markdown",
   "metadata": {},
   "source": [
    "---\n",
    "### Input Data Widget"
   ]
  },
  {
   "cell_type": "code",
   "execution_count": null,
   "metadata": {
    "collapsed": false
   },
   "outputs": [],
   "source": []
  },
  {
   "cell_type": "code",
   "execution_count": null,
   "metadata": {
    "collapsed": false
   },
   "outputs": [],
   "source": []
  },
  {
   "cell_type": "markdown",
   "metadata": {},
   "source": [
    "** Initial Velocities **"
   ]
  },
  {
   "cell_type": "code",
   "execution_count": null,
   "metadata": {
    "collapsed": false
   },
   "outputs": [],
   "source": []
  },
  {
   "cell_type": "code",
   "execution_count": null,
   "metadata": {
    "collapsed": false
   },
   "outputs": [],
   "source": []
  },
  {
   "cell_type": "code",
   "execution_count": null,
   "metadata": {
    "collapsed": false
   },
   "outputs": [],
   "source": []
  },
  {
   "cell_type": "code",
   "execution_count": null,
   "metadata": {
    "collapsed": false
   },
   "outputs": [],
   "source": []
  },
  {
   "cell_type": "code",
   "execution_count": null,
   "metadata": {
    "collapsed": true
   },
   "outputs": [],
   "source": []
  },
  {
   "cell_type": "code",
   "execution_count": null,
   "metadata": {
    "collapsed": true
   },
   "outputs": [],
   "source": []
  },
  {
   "cell_type": "code",
   "execution_count": null,
   "metadata": {
    "collapsed": true
   },
   "outputs": [],
   "source": []
  },
  {
   "cell_type": "code",
   "execution_count": null,
   "metadata": {
    "collapsed": true
   },
   "outputs": [],
   "source": []
  },
  {
   "cell_type": "code",
   "execution_count": null,
   "metadata": {
    "collapsed": true
   },
   "outputs": [],
   "source": []
  },
  {
   "cell_type": "code",
   "execution_count": null,
   "metadata": {
    "collapsed": true
   },
   "outputs": [],
   "source": []
  },
  {
   "cell_type": "markdown",
   "metadata": {},
   "source": [
    "<a id='nomenclature_cell'></a>\n",
    "\n",
    "---\n",
    "## Nomenclature"
   ]
  },
  {
   "cell_type": "markdown",
   "metadata": {},
   "source": [
    "$Q =$ Air Flow\n",
    "\n",
    "$L =$ Duct Length\n",
    "\n",
    "$\\Delta P_z = $ Additional Pressure Loss\n",
    "\n",
    "$H_z =$ Required Duct Height\n",
    "\n",
    "$W_z =$ Required Duct Width\n",
    "\n",
    "$D_z =$ Required Duct Diameter\n",
    "\n",
    "$C = $ Local Loss Coefficient"
   ]
  },
  {
   "cell_type": "code",
   "execution_count": null,
   "metadata": {
    "collapsed": true
   },
   "outputs": [],
   "source": []
  }
 ],
 "metadata": {
  "kernelspec": {
   "display_name": "IPython (Python 3)",
   "language": "python",
   "name": "python3"
  },
  "language_info": {
   "codemirror_mode": {
    "name": "ipython",
    "version": 3
   },
   "file_extension": ".py",
   "mimetype": "text/x-python",
   "name": "python",
   "nbconvert_exporter": "python",
   "pygments_lexer": "ipython3",
   "version": "3.5.2"
  },
  "latex_envs": {
   "bibliofile": "biblio.bib",
   "cite_by": "apalike",
   "current_citInitial": 1,
   "eqLabelWithNumbers": true,
   "eqNumInitial": 0
  },
  "widgets": {
   "state": {
    "348ad6f24de84a34a5c432c0d5f4f91a": {
     "views": [
      {
       "cell_index": 14
      }
     ]
    },
    "4760f82b303643dc96b3d7857b2d37d6": {
     "views": [
      {
       "cell_index": 14
      }
     ]
    }
   },
   "version": "1.2.0"
  }
 },
 "nbformat": 4,
 "nbformat_minor": 0
}
